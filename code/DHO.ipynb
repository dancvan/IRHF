{
 "cells": [
  {
   "cell_type": "markdown",
   "metadata": {},
   "source": [
    "# Damped Harmonic oscillator"
   ]
  },
  {
   "cell_type": "markdown",
   "metadata": {},
   "source": [
    "#### We know the form of the damped harmonic oscillator is: \n",
    "$$ m\\frac{d^{2}x}{dt^{2}} + b \\frac{dx}{dt} + kx = 0$$\n",
    "#### and if we assume the following initial conditions: \n",
    "$$x(0) = A$$\n",
    "$$\\frac{dx(0)}{dt} = v(0) = \\frac{-b}{2m}A$$\n",
    "\n",
    "#### We get the following transfer function:\n",
    "$$F(s) = A \\frac{ms + b/2}{ms^2 + bs + k}$$\n",
    "\n",
    "#### I'm gonna play around with these parameters to see how I can adjust the time constant of the system"
   ]
  },
  {
   "cell_type": "code",
   "execution_count": null,
   "metadata": {},
   "outputs": [],
   "source": []
  }
 ],
 "metadata": {
  "kernelspec": {
   "display_name": "Python 3",
   "language": "python",
   "name": "python3"
  },
  "language_info": {
   "codemirror_mode": {
    "name": "ipython",
    "version": 3
   },
   "file_extension": ".py",
   "mimetype": "text/x-python",
   "name": "python",
   "nbconvert_exporter": "python",
   "pygments_lexer": "ipython3",
   "version": "3.7.3"
  }
 },
 "nbformat": 4,
 "nbformat_minor": 2
}
